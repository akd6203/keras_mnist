{
 "cells": [
  {
   "cell_type": "markdown",
   "id": "db5a3c6d-c665-4387-bcc5-d181f0768192",
   "metadata": {},
   "source": [
    "### Install Required Libraries"
   ]
  },
  {
   "cell_type": "code",
   "execution_count": null,
   "id": "fe3fa7ed-42fe-4e4f-b2d2-c8497cfa2f83",
   "metadata": {},
   "outputs": [],
   "source": [
    "#!pip install numpy"
   ]
  },
  {
   "cell_type": "code",
   "execution_count": null,
   "id": "dab8e81d-6e20-49f4-96b3-8f42c6dac7f8",
   "metadata": {},
   "outputs": [],
   "source": [
    "#!pip install pandas opencv-python keras tensorflow"
   ]
  },
  {
   "cell_type": "code",
   "execution_count": null,
   "id": "3bcc2bd4-832d-47b3-a49c-5ddfb8aaa662",
   "metadata": {},
   "outputs": [],
   "source": [
    "#!pip install pandas opencv-python keras tensorflow"
   ]
  },
  {
   "cell_type": "markdown",
   "id": "53a67c42-dd34-4928-a876-b1f3e507fd98",
   "metadata": {},
   "source": [
    "### Task 1: Import libraries"
   ]
  },
  {
   "cell_type": "code",
   "execution_count": 1,
   "id": "ec155fe2-245d-433c-85c5-70f2a2eeb936",
   "metadata": {},
   "outputs": [],
   "source": [
    "import numpy as np\n",
    "import pandas as pd\n",
    "import matplotlib.pyplot as plt\n",
    "import tensorflow as tf\n",
    "from tensorflow import keras\n",
    "from keras.models import load_model\n",
    "import cv2"
   ]
  },
  {
   "cell_type": "markdown",
   "id": "38dfd552-fef4-4729-9ea7-ecd9585dfe83",
   "metadata": {},
   "source": [
    "### Task 2: Import Dataset:"
   ]
  },
  {
   "cell_type": "code",
   "execution_count": 2,
   "id": "0ef37fb0-30d1-4469-96d9-6472993f5709",
   "metadata": {},
   "outputs": [],
   "source": [
    "(x_train, y_train), (x_test, y_test) = keras.datasets.mnist.load_data()"
   ]
  },
  {
   "cell_type": "code",
   "execution_count": 3,
   "id": "e24a5a28-eaab-4bc1-8959-07097d9e46d2",
   "metadata": {},
   "outputs": [
    {
     "data": {
      "text/plain": [
       "(60000, 28, 28)"
      ]
     },
     "execution_count": 3,
     "metadata": {},
     "output_type": "execute_result"
    }
   ],
   "source": [
    "x_train.shape"
   ]
  },
  {
   "cell_type": "code",
   "execution_count": 4,
   "id": "30796991-87e3-495f-89c2-534574a07549",
   "metadata": {},
   "outputs": [
    {
     "name": "stdout",
     "output_type": "stream",
     "text": [
      "(10000, 28, 28) (10000,)\n"
     ]
    }
   ],
   "source": [
    "print(x_test.shape, y_test.shape)"
   ]
  },
  {
   "cell_type": "code",
   "execution_count": 6,
   "id": "a52ce0d2-3a3c-4a96-821d-4be014a9a0c0",
   "metadata": {},
   "outputs": [],
   "source": [
    "# x_test"
   ]
  },
  {
   "cell_type": "markdown",
   "id": "fd4202f8-8375-4a7a-af73-fce95e3c5398",
   "metadata": {},
   "source": [
    "Let's test any data sample to check if it is corect data or not"
   ]
  },
  {
   "cell_type": "code",
   "execution_count": 9,
   "id": "0bb20727-9dbd-4603-9b57-747bd38eaa3c",
   "metadata": {},
   "outputs": [
    {
     "name": "stdout",
     "output_type": "stream",
     "text": [
      "label= 5\n"
     ]
    },
    {
     "data": {
      "text/plain": [
       "<matplotlib.image.AxesImage at 0x1f356241b10>"
      ]
     },
     "execution_count": 9,
     "metadata": {},
     "output_type": "execute_result"
    },
    {
     "data": {
      "image/png": "[encoded data removed]",
      "text/plain": [
       "<Figure size 640x480 with 1 Axes>"
      ]
     },
     "metadata": {},
     "output_type": "display_data"
    }
   ],
   "source": [
    "print(\"label=\",y_train[0])\n",
    "plt.imshow(x_train[0])"
   ]
  },
  {
   "cell_type": "markdown",
   "id": "a457d5e7-1267-438f-958e-5376a6361ba4",
   "metadata": {},
   "source": [
    "### Task 2: Data Preprocessing"
   ]
  },
  {
   "cell_type": "code",
   "execution_count": 10,
   "id": "4f11aa1e-f87f-48b9-84b0-52d2564cb9a3",
   "metadata": {},
   "outputs": [
    {
     "name": "stdout",
     "output_type": "stream",
     "text": [
      "255 0 255 0\n"
     ]
    }
   ],
   "source": [
    "print(x_train.max(), x_train.min(), x_test.max(), x_test.min())"
   ]
  },
  {
   "cell_type": "code",
   "execution_count": 12,
   "id": "2fbfc867-0691-48b9-ba8b-dac2347f448b",
   "metadata": {},
   "outputs": [
    {
     "data": {
      "text/plain": [
       "array([5, 0, 4, 1, 9, 2], dtype=uint8)"
      ]
     },
     "execution_count": 12,
     "metadata": {},
     "output_type": "execute_result"
    }
   ],
   "source": [
    "y_train[:6]"
   ]
  },
  {
   "cell_type": "markdown",
   "id": "84f57f77-419c-459c-8b4f-7a4eddfaa0ff",
   "metadata": {},
   "source": [
    "- The training data ranges between 0-255, now we will rescale the feature values to be in the range [0, 1]"
   ]
  },
  {
   "cell_type": "code",
   "execution_count": 13,
   "id": "0cf9a6a3-12af-46f2-98a4-6d8cad0ca016",
   "metadata": {},
   "outputs": [],
   "source": [
    "x_train_processed, x_test_processed = x_train / 255.0, x_test / 255.0"
   ]
  },
  {
   "cell_type": "code",
   "execution_count": 14,
   "id": "7cc37190-33b0-439b-bb76-3d875ea7837a",
   "metadata": {},
   "outputs": [
    {
     "name": "stdout",
     "output_type": "stream",
     "text": [
      "1.0 0.0 1.0 0.0\n"
     ]
    }
   ],
   "source": [
    "print(x_train_processed.max(), x_train_processed.min(), x_test_processed.max(), x_test_processed.min())"
   ]
  },
  {
   "cell_type": "markdown",
   "id": "f232a8de-64c7-484d-890e-d4a50a34d994",
   "metadata": {},
   "source": [
    "### Task 3: Build a Classifier using MLP (Multi Layer perceptron)"
   ]
  },
  {
   "cell_type": "code",
   "execution_count": 15,
   "id": "f2fef9ea-1927-4d6b-ab84-aa617028da10",
   "metadata": {},
   "outputs": [],
   "source": [
    "from keras.models import Sequential\n",
    "from keras.layers import Convolution2D, MaxPooling2D\n",
    "from keras.layers import Flatten, Dense,Dropout\n",
    "from keras.optimizers import Adam"
   ]
  },
  {
   "cell_type": "code",
   "execution_count": 16,
   "id": "a9c828a9-c99f-4b51-9f8f-6fd19710d5c5",
   "metadata": {},
   "outputs": [],
   "source": [
    "model = keras.models.Sequential([\n",
    "    keras.layers.Flatten(input_shape=(28, 28)),\n",
    "    keras.layers.Dense(128, activation='relu'),\n",
    "    keras.layers.Dropout(0.2),\n",
    "    keras.layers.Dense(10, activation='softmax')\n",
    "])"
   ]
  },
  {
   "cell_type": "code",
   "execution_count": 19,
   "id": "5d705483-f942-4c96-ab34-7e59fb98f9d9",
   "metadata": {},
   "outputs": [
    {
     "data": {
      "text/plain": [
       "100480"
      ]
     },
     "execution_count": 19,
     "metadata": {},
     "output_type": "execute_result"
    }
   ],
   "source": [
    "784*128+128"
   ]
  },
  {
   "cell_type": "code",
   "execution_count": 17,
   "id": "85d3dd84-2dac-417f-9883-2b9fc78186ef",
   "metadata": {},
   "outputs": [
    {
     "name": "stdout",
     "output_type": "stream",
     "text": [
      "Model: \"sequential\"\n",
      "_________________________________________________________________\n",
      " Layer (type)                Output Shape              Param #   \n",
      "=================================================================\n",
      " flatten (Flatten)           (None, 784)               0         \n",
      "                                                                 \n",
      " dense (Dense)               (None, 128)               100480    \n",
      "                                                                 \n",
      " dropout (Dropout)           (None, 128)               0         \n",
      "                                                                 \n",
      " dense_1 (Dense)             (None, 10)                1290      \n",
      "                                                                 \n",
      "=================================================================\n",
      "Total params: 101770 (397.54 KB)\n",
      "Trainable params: 101770 (397.54 KB)\n",
      "Non-trainable params: 0 (0.00 Byte)\n",
      "_________________________________________________________________\n"
     ]
    }
   ],
   "source": [
    "model.summary()"
   ]
  },
  {
   "cell_type": "markdown",
   "id": "29788d2f-f656-4c79-9ac9-7b02c49347a2",
   "metadata": {},
   "source": [
    "### Task 4: Compile the Model"
   ]
  },
  {
   "cell_type": "code",
   "execution_count": 20,
   "id": "751a1d1f-c857-42bc-81d5-1ecaf7a69ed5",
   "metadata": {},
   "outputs": [],
   "source": [
    "model.compile(optimizer='adam',\n",
    "              loss='sparse_categorical_crossentropy',\n",
    "              metrics=['accuracy'])"
   ]
  },
  {
   "cell_type": "markdown",
   "id": "20cff72c-7f8f-4c8c-810b-95fd69a99cc8",
   "metadata": {},
   "source": [
    "### Task 5: Train and Test the model."
   ]
  },
  {
   "cell_type": "code",
   "execution_count": 21,
   "id": "08f3a757-4a6e-4fc6-a863-4c79eff7fbd5",
   "metadata": {},
   "outputs": [
    {
     "name": "stdout",
     "output_type": "stream",
     "text": [
      "Epoch 1/5\n",
      "1875/1875 [==============================] - 37s 17ms/step - loss: 0.2948 - accuracy: 0.9145\n",
      "Epoch 2/5\n",
      "1875/1875 [==============================] - 31s 16ms/step - loss: 0.1415 - accuracy: 0.9575\n",
      "Epoch 3/5\n",
      "1875/1875 [==============================] - 31s 16ms/step - loss: 0.1067 - accuracy: 0.9683\n",
      "Epoch 4/5\n",
      "1875/1875 [==============================] - 35s 18ms/step - loss: 0.0888 - accuracy: 0.9727\n",
      "Epoch 5/5\n",
      "1875/1875 [==============================] - 31s 17ms/step - loss: 0.0744 - accuracy: 0.9770\n"
     ]
    },
    {
     "data": {
      "text/plain": [
       "<keras.src.callbacks.History at 0x1f3726a2320>"
      ]
     },
     "execution_count": 21,
     "metadata": {},
     "output_type": "execute_result"
    }
   ],
   "source": [
    "history = model.fit(x_train_processed, y_train, epochs=5)\n",
    "history"
   ]
  },
  {
   "cell_type": "markdown",
   "id": "02613952-90f8-4a25-aaac-b399dc5b72e2",
   "metadata": {},
   "source": [
    "# Evaluation"
   ]
  },
  {
   "cell_type": "code",
   "execution_count": 22,
   "id": "5b00677d-e235-4cfc-8a21-a36b78f42fe1",
   "metadata": {},
   "outputs": [
    {
     "name": "stdout",
     "output_type": "stream",
     "text": [
      "313/313 [==============================] - 6s 15ms/step - loss: 0.0685 - accuracy: 0.9797\n"
     ]
    }
   ],
   "source": [
    "test_loss, test_acc = model.evaluate(x_test_processed, y_test)"
   ]
  },
  {
   "cell_type": "code",
   "execution_count": 23,
   "id": "ddce35a6-e56c-4af6-bc25-de245c3e822b",
   "metadata": {},
   "outputs": [
    {
     "name": "stdout",
     "output_type": "stream",
     "text": [
      "Test Loss:  0.06852062046527863\n",
      "Test Accuracy:  0.9797000288963318\n"
     ]
    }
   ],
   "source": [
    "print(\"Test Loss: \", test_loss)\n",
    "print(\"Test Accuracy: \", test_acc)"
   ]
  },
  {
   "cell_type": "markdown",
   "id": "8f3a23a4-1d87-41ac-8cbb-c7a0a067e143",
   "metadata": {},
   "source": [
    "- Access Loss and Accuracy details from the training history"
   ]
  },
  {
   "cell_type": "code",
   "execution_count": 24,
   "id": "64d47a33-6ea3-4688-b665-66ff193a64b5",
   "metadata": {},
   "outputs": [],
   "source": [
    "training_loss = history.history['loss']\n",
    "training_accuracy = history.history['accuracy']"
   ]
  },
  {
   "cell_type": "code",
   "execution_count": 25,
   "id": "c8ddf7b8-1dd0-4f3a-8dd0-08d9ac4b82fd",
   "metadata": {},
   "outputs": [
    {
     "data": {
      "image/png": "[encoded data removed]",
      "text/plain": [
       "<Figure size 800x300 with 2 Axes>"
      ]
     },
     "metadata": {},
     "output_type": "display_data"
    }
   ],
   "source": [
    "# Create subplots for loss and accuracy\n",
    "plt.figure(figsize=(8, 3))\n",
    "# Loss subplot\n",
    "plt.subplot(1, 2, 1)\n",
    "plt.plot(training_loss, label='Training Loss')\n",
    "plt.xlabel('Epochs')\n",
    "plt.ylabel('Loss')\n",
    "plt.legend()\n",
    "\n",
    "# Accuracy subplot\n",
    "plt.subplot(1, 2, 2)\n",
    "plt.plot(training_accuracy, label='Training Accuracy')\n",
    "plt.xlabel('Epochs')\n",
    "plt.ylabel('Accuracy')\n",
    "plt.legend()\n",
    "\n",
    "plt.show()"
   ]
  },
  {
   "cell_type": "markdown",
   "id": "e7ab7133-fa60-423b-a4eb-2d7f6d02c5e3",
   "metadata": {},
   "source": [
    "- As we can see in the graph, loss has been decreased with each epoch where accuracy has been increased"
   ]
  },
  {
   "cell_type": "markdown",
   "id": "4d13a611-d600-429f-a026-67fbaab9675f",
   "metadata": {},
   "source": [
    "### Let's make predictions on the test test and check whether those predictions are correct or not"
   ]
  },
  {
   "cell_type": "code",
   "execution_count": 27,
   "id": "a9dfbff0-437c-4baa-9b3e-24260cd66859",
   "metadata": {},
   "outputs": [],
   "source": [
    "# x_test_processed[1]"
   ]
  },
  {
   "cell_type": "code",
   "execution_count": 34,
   "id": "254f7210-8b21-4bee-ab53-6b89c0db4d92",
   "metadata": {},
   "outputs": [
    {
     "name": "stdout",
     "output_type": "stream",
     "text": [
      "313/313 [==============================] - 4s 13ms/step\n"
     ]
    },
    {
     "data": {
      "text/plain": [
       "1"
      ]
     },
     "execution_count": 34,
     "metadata": {},
     "output_type": "execute_result"
    }
   ],
   "source": [
    "model.predict(x_test_processed)[2].argmax()"
   ]
  },
  {
   "cell_type": "code",
   "execution_count": 35,
   "id": "c2ba2b73-0bb0-4090-b27e-7834caa84185",
   "metadata": {},
   "outputs": [
    {
     "data": {
      "text/plain": [
       "<matplotlib.image.AxesImage at 0x1f300476aa0>"
      ]
     },
     "execution_count": 35,
     "metadata": {},
     "output_type": "execute_result"
    },
    {
     "data": {
      "image/png": "[encoded data removed]",
      "text/plain": [
       "<Figure size 640x480 with 1 Axes>"
      ]
     },
     "metadata": {},
     "output_type": "display_data"
    }
   ],
   "source": [
    "plt.imshow(x_test[2])"
   ]
  },
  {
   "cell_type": "code",
   "execution_count": 36,
   "id": "58cf550c-e247-44eb-aa60-28ea2864dec3",
   "metadata": {},
   "outputs": [
    {
     "data": {
      "text/plain": [
       "1"
      ]
     },
     "execution_count": 36,
     "metadata": {},
     "output_type": "execute_result"
    }
   ],
   "source": [
    "y_test[2]"
   ]
  },
  {
   "cell_type": "code",
   "execution_count": 29,
   "id": "90d6a731-5b1a-45cb-9ed2-1c500a89272a",
   "metadata": {},
   "outputs": [
    {
     "data": {
      "text/plain": [
       "7"
      ]
     },
     "execution_count": 29,
     "metadata": {},
     "output_type": "execute_result"
    }
   ],
   "source": [
    "y_test[0]"
   ]
  },
  {
   "cell_type": "code",
   "execution_count": 41,
   "id": "d7a64fdf-12c4-4e6a-9de0-45d128669b7b",
   "metadata": {},
   "outputs": [
    {
     "name": "stdout",
     "output_type": "stream",
     "text": [
      "313/313 [==============================] - 2s 5ms/step\n"
     ]
    },
    {
     "data": {
      "image/png": "[encoded data removed]",
      "text/plain": [
       "<Figure size 1200x500 with 6 Axes>"
      ]
     },
     "metadata": {},
     "output_type": "display_data"
    }
   ],
   "source": [
    "predictions = model.predict(x_test_processed)\n",
    "plt.figure(figsize=(12, 5))\n",
    "for i in range(6):\n",
    "    plt.subplot(1, 6, i+1)\n",
    "    prediction = predictions[i].argmax()\n",
    "    image =plt.imshow(x_test_processed[i])\n",
    "    plt.xlabel('prediction: '+str(prediction))\n",
    "    plt.xticks([])  # Hide the x-axis scale and ticks\n",
    "    plt.yticks([])  # Hide the y-axis scale and ticks\n",
    "    "
   ]
  }
 ],
 "metadata": {
  "kernelspec": {
   "display_name": "Python 3 (ipykernel)",
   "language": "python",
   "name": "python3"
  },
  "language_info": {
   "codemirror_mode": {
    "name": "ipython",
    "version": 3
   },
   "file_extension": ".py",
   "mimetype": "text/x-python",
   "name": "python",
   "nbconvert_exporter": "python",
   "pygments_lexer": "ipython3",
   "version": "3.10.8"
  }
 },
 "nbformat": 4,
 "nbformat_minor": 5
}
